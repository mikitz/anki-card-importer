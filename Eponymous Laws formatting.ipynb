{
 "metadata": {
  "language_info": {
   "codemirror_mode": {
    "name": "ipython",
    "version": 3
   },
   "file_extension": ".py",
   "mimetype": "text/x-python",
   "name": "python",
   "nbconvert_exporter": "python",
   "pygments_lexer": "ipython3",
   "version": "3.8.3-final"
  },
  "orig_nbformat": 2,
  "kernelspec": {
   "name": "python3",
   "display_name": "Python 3"
  }
 },
 "nbformat": 4,
 "nbformat_minor": 2,
 "cells": [
  {
   "cell_type": "code",
   "execution_count": 2,
   "metadata": {},
   "outputs": [],
   "source": [
    "import re\n",
    "import pandas as pd\n",
    "import numpy as np"
   ]
  },
  {
   "cell_type": "code",
   "execution_count": 3,
   "metadata": {},
   "outputs": [
    {
     "output_type": "execute_result",
     "data": {
      "text/plain": [
       "                                                  text  \\\n",
       "0    Acton's dictum: \"Power tends to corrupt, and a...   \n",
       "1    Aitken's law describes how vowel length in Sco...   \n",
       "2    Alder's razor: See Newton's flaming laser swor...   \n",
       "3    Allen's rule: Endotherms from colder climates ...   \n",
       "4    Amagat's law describes the behaviour and prope...   \n",
       "..                                                 ...   \n",
       "295  Woodward–Hoffmann rules, in organic chemistry,...   \n",
       "296  Yao's principle, in computational complexity t...   \n",
       "297  Yerkes–Dodson law, an empirical relationship b...   \n",
       "298  Zawinski's law: Every program attempts to expa...   \n",
       "299  Zipf's law, in linguistics, is the observation...   \n",
       "\n",
       "                                                edited  \n",
       "0    Acton's dictum: \"Power tends to corrupt, and a...  \n",
       "1    Aitken's law: describes how vowel length in Sc...  \n",
       "2    Alder's razor: See Newton's flaming laser swor...  \n",
       "3    Allen's rule: Endotherms from colder climates ...  \n",
       "4    Amagat's law: describes the behaviour and prop...  \n",
       "..                                                 ...  \n",
       "295  Woodward–Hoffmann rules, in organic chemistry,...  \n",
       "296  Yao's principle, in computational complexity t...  \n",
       "297  Yerkes–Dodson law:, an empirical relationship ...  \n",
       "298  Zawinski's law:: Every program attempts to exp...  \n",
       "299  Zipf's law:, in linguistics, is the observatio...  \n",
       "\n",
       "[300 rows x 2 columns]"
      ],
      "text/html": "<div>\n<style scoped>\n    .dataframe tbody tr th:only-of-type {\n        vertical-align: middle;\n    }\n\n    .dataframe tbody tr th {\n        vertical-align: top;\n    }\n\n    .dataframe thead th {\n        text-align: right;\n    }\n</style>\n<table border=\"1\" class=\"dataframe\">\n  <thead>\n    <tr style=\"text-align: right;\">\n      <th></th>\n      <th>text</th>\n      <th>edited</th>\n    </tr>\n  </thead>\n  <tbody>\n    <tr>\n      <th>0</th>\n      <td>Acton's dictum: \"Power tends to corrupt, and a...</td>\n      <td>Acton's dictum: \"Power tends to corrupt, and a...</td>\n    </tr>\n    <tr>\n      <th>1</th>\n      <td>Aitken's law describes how vowel length in Sco...</td>\n      <td>Aitken's law: describes how vowel length in Sc...</td>\n    </tr>\n    <tr>\n      <th>2</th>\n      <td>Alder's razor: See Newton's flaming laser swor...</td>\n      <td>Alder's razor: See Newton's flaming laser swor...</td>\n    </tr>\n    <tr>\n      <th>3</th>\n      <td>Allen's rule: Endotherms from colder climates ...</td>\n      <td>Allen's rule: Endotherms from colder climates ...</td>\n    </tr>\n    <tr>\n      <th>4</th>\n      <td>Amagat's law describes the behaviour and prope...</td>\n      <td>Amagat's law: describes the behaviour and prop...</td>\n    </tr>\n    <tr>\n      <th>...</th>\n      <td>...</td>\n      <td>...</td>\n    </tr>\n    <tr>\n      <th>295</th>\n      <td>Woodward–Hoffmann rules, in organic chemistry,...</td>\n      <td>Woodward–Hoffmann rules, in organic chemistry,...</td>\n    </tr>\n    <tr>\n      <th>296</th>\n      <td>Yao's principle, in computational complexity t...</td>\n      <td>Yao's principle, in computational complexity t...</td>\n    </tr>\n    <tr>\n      <th>297</th>\n      <td>Yerkes–Dodson law, an empirical relationship b...</td>\n      <td>Yerkes–Dodson law:, an empirical relationship ...</td>\n    </tr>\n    <tr>\n      <th>298</th>\n      <td>Zawinski's law: Every program attempts to expa...</td>\n      <td>Zawinski's law:: Every program attempts to exp...</td>\n    </tr>\n    <tr>\n      <th>299</th>\n      <td>Zipf's law, in linguistics, is the observation...</td>\n      <td>Zipf's law:, in linguistics, is the observatio...</td>\n    </tr>\n  </tbody>\n</table>\n<p>300 rows × 2 columns</p>\n</div>"
     },
     "metadata": {},
     "execution_count": 3
    }
   ],
   "source": [
    "df = pd.read_excel(r'Untitled spreadsheet.xlsx', header = None)\n",
    "df.columns = ['text']\n",
    "editList = []\n",
    "for index, row in df.iterrows():\n",
    "    text = re.sub(r'(\\blaw\\b)', r'\\1:', df['text'][index])\n",
    "    editList.append(text)\n",
    "df['edited'] = editList\n",
    "df"
   ]
  },
  {
   "cell_type": "code",
   "execution_count": 4,
   "metadata": {},
   "outputs": [
    {
     "output_type": "execute_result",
     "data": {
      "text/plain": [
       "                                                  text  \\\n",
       "0    Acton's dictum: \"Power tends to corrupt, and a...   \n",
       "1    Aitken's law describes how vowel length in Sco...   \n",
       "2    Alder's razor: See Newton's flaming laser swor...   \n",
       "3    Allen's rule: Endotherms from colder climates ...   \n",
       "4    Amagat's law describes the behaviour and prope...   \n",
       "..                                                 ...   \n",
       "295  Woodward–Hoffmann rules, in organic chemistry,...   \n",
       "296  Yao's principle, in computational complexity t...   \n",
       "297  Yerkes–Dodson law, an empirical relationship b...   \n",
       "298  Zawinski's law: Every program attempts to expa...   \n",
       "299  Zipf's law, in linguistics, is the observation...   \n",
       "\n",
       "                                                edited  \\\n",
       "0    Acton's dictum: \"Power tends to corrupt, and a...   \n",
       "1    Aitken's law: describes how vowel length in Sc...   \n",
       "2    Alder's razor: See Newton's flaming laser swor...   \n",
       "3    Allen's rule: Endotherms from colder climates ...   \n",
       "4    Amagat's law: describes the behaviour and prop...   \n",
       "..                                                 ...   \n",
       "295  Woodward–Hoffmann rules, in organic chemistry,...   \n",
       "296  Yao's principle, in computational complexity t...   \n",
       "297  Yerkes–Dodson law:, an empirical relationship ...   \n",
       "298  Zawinski's law:: Every program attempts to exp...   \n",
       "299  Zipf's law:, in linguistics, is the observatio...   \n",
       "\n",
       "                                              edited_2  \n",
       "0    Acton's dictum: \"Power tends to corrupt, and a...  \n",
       "1    Aitken's law: describes how vowel length in Sc...  \n",
       "2    Alder's razor: See Newton's flaming laser swor...  \n",
       "3    Allen's rule: Endotherms from colder climates ...  \n",
       "4    Amagat's law: describes the behaviour and prop...  \n",
       "..                                                 ...  \n",
       "295  Woodward–Hoffmann rules, in organic chemistry,...  \n",
       "296  Yao's principle:, in computational complexity ...  \n",
       "297  Yerkes–Dodson law:, an empirical relationship ...  \n",
       "298  Zawinski's law:: Every program attempts to exp...  \n",
       "299  Zipf's law:, in linguistics, is the observatio...  \n",
       "\n",
       "[300 rows x 3 columns]"
      ],
      "text/html": "<div>\n<style scoped>\n    .dataframe tbody tr th:only-of-type {\n        vertical-align: middle;\n    }\n\n    .dataframe tbody tr th {\n        vertical-align: top;\n    }\n\n    .dataframe thead th {\n        text-align: right;\n    }\n</style>\n<table border=\"1\" class=\"dataframe\">\n  <thead>\n    <tr style=\"text-align: right;\">\n      <th></th>\n      <th>text</th>\n      <th>edited</th>\n      <th>edited_2</th>\n    </tr>\n  </thead>\n  <tbody>\n    <tr>\n      <th>0</th>\n      <td>Acton's dictum: \"Power tends to corrupt, and a...</td>\n      <td>Acton's dictum: \"Power tends to corrupt, and a...</td>\n      <td>Acton's dictum: \"Power tends to corrupt, and a...</td>\n    </tr>\n    <tr>\n      <th>1</th>\n      <td>Aitken's law describes how vowel length in Sco...</td>\n      <td>Aitken's law: describes how vowel length in Sc...</td>\n      <td>Aitken's law: describes how vowel length in Sc...</td>\n    </tr>\n    <tr>\n      <th>2</th>\n      <td>Alder's razor: See Newton's flaming laser swor...</td>\n      <td>Alder's razor: See Newton's flaming laser swor...</td>\n      <td>Alder's razor: See Newton's flaming laser swor...</td>\n    </tr>\n    <tr>\n      <th>3</th>\n      <td>Allen's rule: Endotherms from colder climates ...</td>\n      <td>Allen's rule: Endotherms from colder climates ...</td>\n      <td>Allen's rule: Endotherms from colder climates ...</td>\n    </tr>\n    <tr>\n      <th>4</th>\n      <td>Amagat's law describes the behaviour and prope...</td>\n      <td>Amagat's law: describes the behaviour and prop...</td>\n      <td>Amagat's law: describes the behaviour and prop...</td>\n    </tr>\n    <tr>\n      <th>...</th>\n      <td>...</td>\n      <td>...</td>\n      <td>...</td>\n    </tr>\n    <tr>\n      <th>295</th>\n      <td>Woodward–Hoffmann rules, in organic chemistry,...</td>\n      <td>Woodward–Hoffmann rules, in organic chemistry,...</td>\n      <td>Woodward–Hoffmann rules, in organic chemistry,...</td>\n    </tr>\n    <tr>\n      <th>296</th>\n      <td>Yao's principle, in computational complexity t...</td>\n      <td>Yao's principle, in computational complexity t...</td>\n      <td>Yao's principle:, in computational complexity ...</td>\n    </tr>\n    <tr>\n      <th>297</th>\n      <td>Yerkes–Dodson law, an empirical relationship b...</td>\n      <td>Yerkes–Dodson law:, an empirical relationship ...</td>\n      <td>Yerkes–Dodson law:, an empirical relationship ...</td>\n    </tr>\n    <tr>\n      <th>298</th>\n      <td>Zawinski's law: Every program attempts to expa...</td>\n      <td>Zawinski's law:: Every program attempts to exp...</td>\n      <td>Zawinski's law:: Every program attempts to exp...</td>\n    </tr>\n    <tr>\n      <th>299</th>\n      <td>Zipf's law, in linguistics, is the observation...</td>\n      <td>Zipf's law:, in linguistics, is the observatio...</td>\n      <td>Zipf's law:, in linguistics, is the observatio...</td>\n    </tr>\n  </tbody>\n</table>\n<p>300 rows × 3 columns</p>\n</div>"
     },
     "metadata": {},
     "execution_count": 4
    }
   ],
   "source": [
    "editList2 = []\n",
    "for index, row in df.iterrows():\n",
    "    text = re.sub(r'(\\bprinciple\\b)', r'\\1:', df['edited'][index])\n",
    "    editList2.append(text)\n",
    "df['edited_2'] = editList2\n",
    "df"
   ]
  },
  {
   "cell_type": "code",
   "execution_count": 5,
   "metadata": {},
   "outputs": [
    {
     "output_type": "execute_result",
     "data": {
      "text/plain": [
       "                                                  text  \\\n",
       "0    Acton's dictum: \"Power tends to corrupt, and a...   \n",
       "1    Aitken's law describes how vowel length in Sco...   \n",
       "2    Alder's razor: See Newton's flaming laser swor...   \n",
       "3    Allen's rule: Endotherms from colder climates ...   \n",
       "4    Amagat's law describes the behaviour and prope...   \n",
       "..                                                 ...   \n",
       "295  Woodward–Hoffmann rules, in organic chemistry,...   \n",
       "296  Yao's principle, in computational complexity t...   \n",
       "297  Yerkes–Dodson law, an empirical relationship b...   \n",
       "298  Zawinski's law: Every program attempts to expa...   \n",
       "299  Zipf's law, in linguistics, is the observation...   \n",
       "\n",
       "                                                edited  \\\n",
       "0    Acton's dictum: \"Power tends to corrupt, and a...   \n",
       "1    Aitken's law: describes how vowel length in Sc...   \n",
       "2    Alder's razor: See Newton's flaming laser swor...   \n",
       "3    Allen's rule: Endotherms from colder climates ...   \n",
       "4    Amagat's law: describes the behaviour and prop...   \n",
       "..                                                 ...   \n",
       "295  Woodward–Hoffmann rules, in organic chemistry,...   \n",
       "296  Yao's principle, in computational complexity t...   \n",
       "297  Yerkes–Dodson law:, an empirical relationship ...   \n",
       "298  Zawinski's law:: Every program attempts to exp...   \n",
       "299  Zipf's law:, in linguistics, is the observatio...   \n",
       "\n",
       "                                              edited_2  \n",
       "0    Acton's dictum: \"Power tends to corrupt, and a...  \n",
       "1    Aitken's law: describes how vowel length in Sc...  \n",
       "2    Alder's razor: See Newton's flaming laser swor...  \n",
       "3    Allen's rule: Endotherms from colder climates ...  \n",
       "4    Amagat's law: describes the behaviour and prop...  \n",
       "..                                                 ...  \n",
       "295  Woodward–Hoffmann rules:, in organic chemistry...  \n",
       "296  Yao's principle:, in computational complexity ...  \n",
       "297  Yerkes–Dodson law:, an empirical relationship ...  \n",
       "298  Zawinski's law:: Every program attempts to exp...  \n",
       "299  Zipf's law:, in linguistics, is the observatio...  \n",
       "\n",
       "[300 rows x 3 columns]"
      ],
      "text/html": "<div>\n<style scoped>\n    .dataframe tbody tr th:only-of-type {\n        vertical-align: middle;\n    }\n\n    .dataframe tbody tr th {\n        vertical-align: top;\n    }\n\n    .dataframe thead th {\n        text-align: right;\n    }\n</style>\n<table border=\"1\" class=\"dataframe\">\n  <thead>\n    <tr style=\"text-align: right;\">\n      <th></th>\n      <th>text</th>\n      <th>edited</th>\n      <th>edited_2</th>\n    </tr>\n  </thead>\n  <tbody>\n    <tr>\n      <th>0</th>\n      <td>Acton's dictum: \"Power tends to corrupt, and a...</td>\n      <td>Acton's dictum: \"Power tends to corrupt, and a...</td>\n      <td>Acton's dictum: \"Power tends to corrupt, and a...</td>\n    </tr>\n    <tr>\n      <th>1</th>\n      <td>Aitken's law describes how vowel length in Sco...</td>\n      <td>Aitken's law: describes how vowel length in Sc...</td>\n      <td>Aitken's law: describes how vowel length in Sc...</td>\n    </tr>\n    <tr>\n      <th>2</th>\n      <td>Alder's razor: See Newton's flaming laser swor...</td>\n      <td>Alder's razor: See Newton's flaming laser swor...</td>\n      <td>Alder's razor: See Newton's flaming laser swor...</td>\n    </tr>\n    <tr>\n      <th>3</th>\n      <td>Allen's rule: Endotherms from colder climates ...</td>\n      <td>Allen's rule: Endotherms from colder climates ...</td>\n      <td>Allen's rule: Endotherms from colder climates ...</td>\n    </tr>\n    <tr>\n      <th>4</th>\n      <td>Amagat's law describes the behaviour and prope...</td>\n      <td>Amagat's law: describes the behaviour and prop...</td>\n      <td>Amagat's law: describes the behaviour and prop...</td>\n    </tr>\n    <tr>\n      <th>...</th>\n      <td>...</td>\n      <td>...</td>\n      <td>...</td>\n    </tr>\n    <tr>\n      <th>295</th>\n      <td>Woodward–Hoffmann rules, in organic chemistry,...</td>\n      <td>Woodward–Hoffmann rules, in organic chemistry,...</td>\n      <td>Woodward–Hoffmann rules:, in organic chemistry...</td>\n    </tr>\n    <tr>\n      <th>296</th>\n      <td>Yao's principle, in computational complexity t...</td>\n      <td>Yao's principle, in computational complexity t...</td>\n      <td>Yao's principle:, in computational complexity ...</td>\n    </tr>\n    <tr>\n      <th>297</th>\n      <td>Yerkes–Dodson law, an empirical relationship b...</td>\n      <td>Yerkes–Dodson law:, an empirical relationship ...</td>\n      <td>Yerkes–Dodson law:, an empirical relationship ...</td>\n    </tr>\n    <tr>\n      <th>298</th>\n      <td>Zawinski's law: Every program attempts to expa...</td>\n      <td>Zawinski's law:: Every program attempts to exp...</td>\n      <td>Zawinski's law:: Every program attempts to exp...</td>\n    </tr>\n    <tr>\n      <th>299</th>\n      <td>Zipf's law, in linguistics, is the observation...</td>\n      <td>Zipf's law:, in linguistics, is the observatio...</td>\n      <td>Zipf's law:, in linguistics, is the observatio...</td>\n    </tr>\n  </tbody>\n</table>\n<p>300 rows × 3 columns</p>\n</div>"
     },
     "metadata": {},
     "execution_count": 5
    }
   ],
   "source": [
    "editList3 = []\n",
    "for index, row in df.iterrows():\n",
    "    text = re.sub(r'(\\brules\\b)', r'\\1:', df['edited_2'][index])\n",
    "    editList3.append(text)\n",
    "df['edited_2'] = editList3\n",
    "df"
   ]
  },
  {
   "cell_type": "code",
   "execution_count": 6,
   "metadata": {},
   "outputs": [
    {
     "output_type": "execute_result",
     "data": {
      "text/plain": [
       "                                                 text  \\\n",
       "5   Amara's law: \"We tend to overestimate the effe...   \n",
       "6   Amdahl's law is used to find out the maximum e...   \n",
       "7   Ampère's circuital law, in physics, relates th...   \n",
       "8   Anderson's rule is used for the construction o...   \n",
       "9   Andy and Bill's law describes how, when a comp...   \n",
       "10  Archie's law, in petrophysics, relates the in-...   \n",
       "11  Archimedes' principle indicates that the upwar...   \n",
       "12  Artin reciprocity law is a general theorem in ...   \n",
       "13  Ashby's law of requisite variety, that the num...   \n",
       "14  Asimov's Three Laws of Robotics formulated by ...   \n",
       "15  A robot may not injure a human being or, throu...   \n",
       "16  A robot must obey the orders given it by human...   \n",
       "17  A robot must protect its own existence as long...   \n",
       "18  The Asimov corollary to Parkinson's law: In te...   \n",
       "19  Atwood's law: Any software that can be written...   \n",
       "20  Augustine's laws on air force management. Name...   \n",
       "21  Avogadro's law, one of the gas laws, states th...   \n",
       "22  Babinet's principle, in physics, states that t...   \n",
       "23  Baldwin's rules predict feasibility of ring-cl...   \n",
       "24  Barlow's law was an incorrect physical law pro...   \n",
       "\n",
       "                                               edited  \\\n",
       "5   Amara's law:: \"We tend to overestimate the eff...   \n",
       "6   Amdahl's law: is used to find out the maximum ...   \n",
       "7   Ampère's circuital law:, in physics, relates t...   \n",
       "8   Anderson's rule is used for the construction o...   \n",
       "9   Andy and Bill's law: describes how, when a com...   \n",
       "10  Archie's law:, in petrophysics, relates the in...   \n",
       "11  Archimedes' principle indicates that the upwar...   \n",
       "12  Artin reciprocity law: is a general theorem in...   \n",
       "13  Ashby's law: of requisite variety, that the nu...   \n",
       "14  Asimov's Three Laws of Robotics formulated by ...   \n",
       "15  A robot may not injure a human being or, throu...   \n",
       "16  A robot must obey the orders given it by human...   \n",
       "17  A robot must protect its own existence as long...   \n",
       "18  The Asimov corollary to Parkinson's law:: In t...   \n",
       "19  Atwood's law:: Any software that can be writte...   \n",
       "20  Augustine's laws on air force management. Name...   \n",
       "21  Avogadro's law:, one of the gas laws, states t...   \n",
       "22  Babinet's principle, in physics, states that t...   \n",
       "23  Baldwin's rules predict feasibility of ring-cl...   \n",
       "24  Barlow's law: was an incorrect physical law: p...   \n",
       "\n",
       "                                             edited_2  \n",
       "5   Amara's law:: \"We tend to overestimate the eff...  \n",
       "6   Amdahl's law: is used to find out the maximum ...  \n",
       "7   Ampère's circuital law:, in physics, relates t...  \n",
       "8   Anderson's rule is used for the construction o...  \n",
       "9   Andy and Bill's law: describes how, when a com...  \n",
       "10  Archie's law:, in petrophysics, relates the in...  \n",
       "11  Archimedes' principle: indicates that the upwa...  \n",
       "12  Artin reciprocity law: is a general theorem in...  \n",
       "13  Ashby's law: of requisite variety, that the nu...  \n",
       "14  Asimov's Three Laws of Robotics formulated by ...  \n",
       "15  A robot may not injure a human being or, throu...  \n",
       "16  A robot must obey the orders given it by human...  \n",
       "17  A robot must protect its own existence as long...  \n",
       "18  The Asimov corollary to Parkinson's law:: In t...  \n",
       "19  Atwood's law:: Any software that can be writte...  \n",
       "20  Augustine's laws on air force management. Name...  \n",
       "21  Avogadro's law:, one of the gas laws, states t...  \n",
       "22  Babinet's principle:, in physics, states that ...  \n",
       "23  Baldwin's rules: predict feasibility of ring-c...  \n",
       "24  Barlow's law: was an incorrect physical law: p...  "
      ],
      "text/html": "<div>\n<style scoped>\n    .dataframe tbody tr th:only-of-type {\n        vertical-align: middle;\n    }\n\n    .dataframe tbody tr th {\n        vertical-align: top;\n    }\n\n    .dataframe thead th {\n        text-align: right;\n    }\n</style>\n<table border=\"1\" class=\"dataframe\">\n  <thead>\n    <tr style=\"text-align: right;\">\n      <th></th>\n      <th>text</th>\n      <th>edited</th>\n      <th>edited_2</th>\n    </tr>\n  </thead>\n  <tbody>\n    <tr>\n      <th>5</th>\n      <td>Amara's law: \"We tend to overestimate the effe...</td>\n      <td>Amara's law:: \"We tend to overestimate the eff...</td>\n      <td>Amara's law:: \"We tend to overestimate the eff...</td>\n    </tr>\n    <tr>\n      <th>6</th>\n      <td>Amdahl's law is used to find out the maximum e...</td>\n      <td>Amdahl's law: is used to find out the maximum ...</td>\n      <td>Amdahl's law: is used to find out the maximum ...</td>\n    </tr>\n    <tr>\n      <th>7</th>\n      <td>Ampère's circuital law, in physics, relates th...</td>\n      <td>Ampère's circuital law:, in physics, relates t...</td>\n      <td>Ampère's circuital law:, in physics, relates t...</td>\n    </tr>\n    <tr>\n      <th>8</th>\n      <td>Anderson's rule is used for the construction o...</td>\n      <td>Anderson's rule is used for the construction o...</td>\n      <td>Anderson's rule is used for the construction o...</td>\n    </tr>\n    <tr>\n      <th>9</th>\n      <td>Andy and Bill's law describes how, when a comp...</td>\n      <td>Andy and Bill's law: describes how, when a com...</td>\n      <td>Andy and Bill's law: describes how, when a com...</td>\n    </tr>\n    <tr>\n      <th>10</th>\n      <td>Archie's law, in petrophysics, relates the in-...</td>\n      <td>Archie's law:, in petrophysics, relates the in...</td>\n      <td>Archie's law:, in petrophysics, relates the in...</td>\n    </tr>\n    <tr>\n      <th>11</th>\n      <td>Archimedes' principle indicates that the upwar...</td>\n      <td>Archimedes' principle indicates that the upwar...</td>\n      <td>Archimedes' principle: indicates that the upwa...</td>\n    </tr>\n    <tr>\n      <th>12</th>\n      <td>Artin reciprocity law is a general theorem in ...</td>\n      <td>Artin reciprocity law: is a general theorem in...</td>\n      <td>Artin reciprocity law: is a general theorem in...</td>\n    </tr>\n    <tr>\n      <th>13</th>\n      <td>Ashby's law of requisite variety, that the num...</td>\n      <td>Ashby's law: of requisite variety, that the nu...</td>\n      <td>Ashby's law: of requisite variety, that the nu...</td>\n    </tr>\n    <tr>\n      <th>14</th>\n      <td>Asimov's Three Laws of Robotics formulated by ...</td>\n      <td>Asimov's Three Laws of Robotics formulated by ...</td>\n      <td>Asimov's Three Laws of Robotics formulated by ...</td>\n    </tr>\n    <tr>\n      <th>15</th>\n      <td>A robot may not injure a human being or, throu...</td>\n      <td>A robot may not injure a human being or, throu...</td>\n      <td>A robot may not injure a human being or, throu...</td>\n    </tr>\n    <tr>\n      <th>16</th>\n      <td>A robot must obey the orders given it by human...</td>\n      <td>A robot must obey the orders given it by human...</td>\n      <td>A robot must obey the orders given it by human...</td>\n    </tr>\n    <tr>\n      <th>17</th>\n      <td>A robot must protect its own existence as long...</td>\n      <td>A robot must protect its own existence as long...</td>\n      <td>A robot must protect its own existence as long...</td>\n    </tr>\n    <tr>\n      <th>18</th>\n      <td>The Asimov corollary to Parkinson's law: In te...</td>\n      <td>The Asimov corollary to Parkinson's law:: In t...</td>\n      <td>The Asimov corollary to Parkinson's law:: In t...</td>\n    </tr>\n    <tr>\n      <th>19</th>\n      <td>Atwood's law: Any software that can be written...</td>\n      <td>Atwood's law:: Any software that can be writte...</td>\n      <td>Atwood's law:: Any software that can be writte...</td>\n    </tr>\n    <tr>\n      <th>20</th>\n      <td>Augustine's laws on air force management. Name...</td>\n      <td>Augustine's laws on air force management. Name...</td>\n      <td>Augustine's laws on air force management. Name...</td>\n    </tr>\n    <tr>\n      <th>21</th>\n      <td>Avogadro's law, one of the gas laws, states th...</td>\n      <td>Avogadro's law:, one of the gas laws, states t...</td>\n      <td>Avogadro's law:, one of the gas laws, states t...</td>\n    </tr>\n    <tr>\n      <th>22</th>\n      <td>Babinet's principle, in physics, states that t...</td>\n      <td>Babinet's principle, in physics, states that t...</td>\n      <td>Babinet's principle:, in physics, states that ...</td>\n    </tr>\n    <tr>\n      <th>23</th>\n      <td>Baldwin's rules predict feasibility of ring-cl...</td>\n      <td>Baldwin's rules predict feasibility of ring-cl...</td>\n      <td>Baldwin's rules: predict feasibility of ring-c...</td>\n    </tr>\n    <tr>\n      <th>24</th>\n      <td>Barlow's law was an incorrect physical law pro...</td>\n      <td>Barlow's law: was an incorrect physical law: p...</td>\n      <td>Barlow's law: was an incorrect physical law: p...</td>\n    </tr>\n  </tbody>\n</table>\n</div>"
     },
     "metadata": {},
     "execution_count": 6
    }
   ],
   "source": [
    "df[5:25]"
   ]
  },
  {
   "cell_type": "code",
   "execution_count": null,
   "metadata": {},
   "outputs": [],
   "source": []
  }
 ]
}